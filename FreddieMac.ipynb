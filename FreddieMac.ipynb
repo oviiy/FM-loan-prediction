{
 "cells": [
  {
   "cell_type": "markdown",
   "id": "06c18daf",
   "metadata": {},
   "source": [
    "Q1. A database table of samples of the historical Freddie Mac single-family loan level data has been provided for this exercise. See the Appendix for details about how to connect to this database and the schema of the table. You will need to create Python scripts that connect to this database table and process the data in the table to fill the needs of the following requirements."
   ]
  },
  {
   "cell_type": "code",
   "execution_count": 1,
   "id": "215a677f",
   "metadata": {},
   "outputs": [
    {
     "data": {
      "text/html": [
       "<div>\n",
       "<style scoped>\n",
       "    .dataframe tbody tr th:only-of-type {\n",
       "        vertical-align: middle;\n",
       "    }\n",
       "\n",
       "    .dataframe tbody tr th {\n",
       "        vertical-align: top;\n",
       "    }\n",
       "\n",
       "    .dataframe thead th {\n",
       "        text-align: right;\n",
       "    }\n",
       "</style>\n",
       "<table border=\"1\" class=\"dataframe\">\n",
       "  <thead>\n",
       "    <tr style=\"text-align: right;\">\n",
       "      <th></th>\n",
       "      <th>first_pmt_date</th>\n",
       "      <th>age</th>\n",
       "      <th>status</th>\n",
       "      <th>first_time_ho_flag</th>\n",
       "      <th>msa_code</th>\n",
       "      <th>mi_pct</th>\n",
       "      <th>credit_score</th>\n",
       "      <th>num_units</th>\n",
       "      <th>occupancy_status</th>\n",
       "      <th>orig_cltv</th>\n",
       "      <th>orig_dti</th>\n",
       "      <th>orig_upb</th>\n",
       "      <th>orig_ir</th>\n",
       "      <th>prop_type</th>\n",
       "      <th>state</th>\n",
       "      <th>zip</th>\n",
       "      <th>loan_seq_num</th>\n",
       "      <th>loan_purpose</th>\n",
       "      <th>num_borrowers</th>\n",
       "    </tr>\n",
       "  </thead>\n",
       "  <tbody>\n",
       "    <tr>\n",
       "      <th>19999</th>\n",
       "      <td>200311</td>\n",
       "      <td>113.0</td>\n",
       "      <td>Prepay</td>\n",
       "      <td></td>\n",
       "      <td>36420.0</td>\n",
       "      <td>000</td>\n",
       "      <td>773.0</td>\n",
       "      <td>1</td>\n",
       "      <td>O</td>\n",
       "      <td>64</td>\n",
       "      <td>23</td>\n",
       "      <td>272000</td>\n",
       "      <td>5.625</td>\n",
       "      <td>SF</td>\n",
       "      <td>OK</td>\n",
       "      <td>73000</td>\n",
       "      <td>F103Q3437940</td>\n",
       "      <td>N</td>\n",
       "      <td>2.0</td>\n",
       "    </tr>\n",
       "  </tbody>\n",
       "</table>\n",
       "</div>"
      ],
      "text/plain": [
       "      first_pmt_date    age  status first_time_ho_flag  msa_code mi_pct  \\\n",
       "19999         200311  113.0  Prepay                      36420.0    000   \n",
       "\n",
       "       credit_score  num_units occupancy_status orig_cltv orig_dti orig_upb  \\\n",
       "19999         773.0          1                O        64       23   272000   \n",
       "\n",
       "      orig_ir prop_type state    zip  loan_seq_num loan_purpose  num_borrowers  \n",
       "19999   5.625        SF    OK  73000  F103Q3437940            N            2.0  "
      ]
     },
     "execution_count": 1,
     "metadata": {},
     "output_type": "execute_result"
    }
   ],
   "source": [
    "import pymysql\n",
    "import numpy as np\n",
    "import pandas as pd\n",
    "import warnings\n",
    "warnings.filterwarnings('ignore')\n",
    "\n",
    "cnt = pymysql.connect(host='miniproject-qfa.cef17qxjlavg.us-west-2.rds.amazonaws.com',\n",
    "                      port=int(3306),user='newuser',passwd='unisonim2.0',db='AgencyData')\n",
    "df = pd.read_sql('Select * FROM CleanFreddieSample',cnt)\n",
    "df.tail(1)"
   ]
  },
  {
   "cell_type": "markdown",
   "id": "ce0144d9",
   "metadata": {},
   "source": [
    "Q2. We would like to analyze the breakdown of mortgage statuses (prepay, default, alive) for each\n",
    "origination cohort (group by year of first_pmt_date). Graph the count and percentage of mortgages in\n",
    "each status (stacked y-axis) by origination cohort (x-axis). Comment on the change in mortgage behavior\n",
    "through the mortgage origination cycle."
   ]
  },
  {
   "cell_type": "code",
   "execution_count": 2,
   "id": "b7610a34",
   "metadata": {},
   "outputs": [
    {
     "data": {
      "text/plain": [
       "<AxesSubplot:xlabel='year'>"
      ]
     },
     "execution_count": 2,
     "metadata": {},
     "output_type": "execute_result"
    },
    {
     "data": {
      "image/png": "[encoded data removed]",
      "text/plain": [
       "<Figure size 432x288 with 1 Axes>"
      ]
     },
     "metadata": {
      "needs_background": "light"
     },
     "output_type": "display_data"
    }
   ],
   "source": [
    "import matplotlib.pyplot as plt\n",
    "\n",
    "year = df['first_pmt_date'].str[:4]\n",
    "df['year'] = year.astype(int)\n",
    "month = df['first_pmt_date'].str[4:]\n",
    "df['month'] = month.astype(int)\n",
    "yearstatus = df.groupby(['year','status'])['status'].count().unstack('status').fillna(0)\n",
    "yearstatus.plot(kind='bar', stacked=True)\n",
    "#print(yearstatus)"
   ]
  },
  {
   "cell_type": "markdown",
   "id": "7912a567",
   "metadata": {},
   "source": [
    "comment: The status majority change from Prepay to alive gradually from 1999 to 2017"
   ]
  },
  {
   "cell_type": "markdown",
   "id": "511519da",
   "metadata": {},
   "source": [
    "Q3. Repeat the analysis above and show the results, but instead of grouping the mortgages by\n",
    "first_pmt_date, group them by age. In addition, briefly explain how you would go about building\n",
    "prepayment and default models for residential mortgages. Separately, what specific empirical data would\n",
    "be required if we want to build a turnover model for Unison residential equity agreements (REA)?\n",
    "Describe a statistical method you would use to estimate the parameters based on such data for an\n",
    "assumed Unison turnover model."
   ]
  },
  {
   "cell_type": "code",
   "execution_count": 3,
   "id": "9e9acbb3",
   "metadata": {},
   "outputs": [
    {
     "data": {
      "text/plain": [
       "<AxesSubplot:xlabel='ageunder'>"
      ]
     },
     "execution_count": 3,
     "metadata": {},
     "output_type": "execute_result"
    },
    {
     "data": {
      "image/png": "[encoded data removed]",
      "text/plain": [
       "<Figure size 432x288 with 1 Axes>"
      ]
     },
     "metadata": {
      "needs_background": "light"
     },
     "output_type": "display_data"
    }
   ],
   "source": [
    "ageunder = (df['age']//10+1)*10\n",
    "df['ageunder'] = ageunder\n",
    "agestatus = df.groupby(['ageunder','status'])['status'].count().unstack('status').fillna(0)\n",
    "agestatus.plot(kind='bar', stacked=True)\n",
    "#print(agestatus)"
   ]
  },
  {
   "cell_type": "markdown",
   "id": "1d450a7c",
   "metadata": {},
   "source": [
    "Comment: Emperically, mortgage age and interest rates are the two main factors that drive the mortgage turnover model. \n",
    "\n",
    "One basic turnover model is constant percent prepayment (CPP), the CPP model is an annualized estimatation of mortgage prepayments, computed by multiplying the average monthly prepayment rate by 12."
   ]
  },
  {
   "cell_type": "markdown",
   "id": "0cbb98e9",
   "metadata": {},
   "source": [
    "Q4. How could prepayment or default behavior of the mortgage affect the Unison residential equity\n",
    "agreement (REA) on the same home? Separately, please share your intuition about how a REA’s turnover\n",
    "behavior may change under different market conditions (interest rates, home price appreciation, etc.).\n",
    "Determine the following unconditional probabilities of mortgage behavior based on the sample data and\n",
    "describe how you arrive at your results. Be reminded that total probabilities should sum up to 1.\n",
    "-That a mortgage has defaulted in the first 5 years\n",
    "-That a mortgage has prepaid in the first 5 years\n",
    "-That a mortgage remains alive after the first 5 years"
   ]
  },
  {
   "cell_type": "code",
   "execution_count": 4,
   "id": "e661d283",
   "metadata": {},
   "outputs": [
    {
     "name": "stdout",
     "output_type": "stream",
     "text": [
      "0.014538676607642124 0.6424976700838769 0.3429636533084809\n"
     ]
    }
   ],
   "source": [
    "conda = df[(df.age <= 60) & (df.status == 'Default')]\n",
    "condb = df[(df.age <= 60) & (df.status == 'Prepay')]\n",
    "condc = df[df.age > 60]\n",
    "condtotal = len(conda) + len(condb) + len(condc)\n",
    "print(len(conda)/condtotal,len(condb)/condtotal,len(condc)/condtotal)"
   ]
  },
  {
   "cell_type": "markdown",
   "id": "f7d8ec19",
   "metadata": {},
   "source": [
    "Comment: Prepayment or default bahavior analysis is essential to REA on the same home because it can effectively support the risk management of the firm operation. We may Manage portfolio risk under various interest rate and market scenarios.\n",
    "\n",
    "A higher interest rates leads to higher default rate because it tend to make the mortgage unaffordable.\n",
    "A hime price appreciation leads to lower default rate because the borrower will have more loss once default.\n",
    "\n",
    "These three senarios does not sum up to the total sample size because it can not categorize the following senario: a mortgage that remains alive in the first 5 years. The conditional probabilities of the three mortgage behaviors do not sum up to 1 thus i will use conditional probability in calculation.\n",
    "\n",
    "The following probabilities for {default in 5, prepaid in 5, alive after 5} = {1.45%,64.25%,34.30%}"
   ]
  },
  {
   "cell_type": "markdown",
   "id": "c850e8fd",
   "metadata": {},
   "source": [
    "Q5. Select either prepayment or default as a response. Select one or more factors (from the list of\n",
    "mortgage characteristics in the provided table) which you believe would affect the selected response and\n",
    "build a simple model to predict prepayment or default rates. Comment on how your selected response\n",
    "(prepayment or default) might affect the market price of a mortgage and how you could devise an\n",
    "investment strategy around this model’s output. Use out-of-sample testing to validate your model. Feel\n",
    "free to highlight if you have additional thoughts on how you could further improve the model."
   ]
  },
  {
   "cell_type": "code",
   "execution_count": 5,
   "id": "20fdf6d3",
   "metadata": {},
   "outputs": [
    {
     "name": "stdout",
     "output_type": "stream",
     "text": [
      "Confusion Matrix : \n",
      " [[10892    22]\n",
      " [  386     3]]\n",
      "Accuracy :  0.9639033884809343\n"
     ]
    }
   ],
   "source": [
    "#calculating the months since start date\n",
    "monthssince = (2016 - df['year'])*12 + (12-df['month'])+4\n",
    "df['monthssince'] = monthssince\n",
    "import sklearn\n",
    "from sklearn import datasets, linear_model, metrics\n",
    "from sklearn.model_selection import train_test_split\n",
    "#only takes default and prepayment and remove NaN in credit score\n",
    "df_q5 = df[(df.status != 'Alive')&(df.credit_score >= 0)]\n",
    "df_q5['defaultyes'] = [1 if x == 'Default' else 0 for x in df_q5['status']]\n",
    "q5_x = df_q5.iloc[:, [1,6,12]].values\n",
    "q5_y = df_q5.iloc[:, [23]].values\n",
    "q5_x = q5_x.astype(float)\n",
    "q5_y = q5_y.astype(int)\n",
    "xtrain, xtest, ytrain, ytest = train_test_split(q5_x, q5_y, test_size = 0.8, random_state = 0)\n",
    "\n",
    "from sklearn.preprocessing import StandardScaler\n",
    "sc_x = StandardScaler()\n",
    "xtrain = sc_x.fit_transform(xtrain)\n",
    "xtest = sc_x.transform(xtest)\n",
    "\n",
    "from sklearn.linear_model import LogisticRegression\n",
    "classifier = LogisticRegression(random_state = 0)\n",
    "classifier.fit(xtrain, ytrain)\n",
    "\n",
    "\n",
    "y_pred = classifier.predict(xtest)\n",
    "\n",
    "from sklearn.metrics import confusion_matrix\n",
    "cm = confusion_matrix(ytest, y_pred)\n",
    " \n",
    "print (\"Confusion Matrix : \\n\", cm)\n",
    "from sklearn.metrics import accuracy_score\n",
    "print (\"Accuracy : \", accuracy_score(ytest, y_pred))"
   ]
  },
  {
   "cell_type": "markdown",
   "id": "df30692d",
   "metadata": {},
   "source": [
    "Comment: In this section, we choose to use a simple but effective model: logistic regression model to predict the prepayment and dafault rate, using emperical effective indicators (my own opinoins): credit score/age/interest rate\n",
    "\n",
    "  1.Data Cleaning and removing all the NaN value in input.\n",
    "  2.Performing feature scaling here because Age and Estimated Salary values lie in different ranges. Rescaling in -1 to 1 for all the input. Hence, each feature will contribute equally in decision making.\n",
    "  3.Splitting the data to train and test. we use 80% of data for training set and 20% of the data for validation set. \n",
    "  4.We are training our Logistic Regression model.\n",
    "  5.We verify the Regression model in validation set to test the accuracy: 96.39%\n",
    "  \n",
    "Model Improving: Error Analysis: go back and look at the cases where they are failing/ Adding More features"
   ]
  },
  {
   "cell_type": "markdown",
   "id": "50573b8f",
   "metadata": {},
   "source": [
    "Q6. Based on your understanding of what Unison does and how a Unison residential equity agreement\n",
    "(REA) works, why do you think we need to monitor, analyze, and understand the mortgage industry in\n",
    "general and Unison customers’ mortgages in particular? Name key metrics that you believe are good\n",
    "indicators of investment risk and explain how you think we can use those metrics in risk management,\n",
    "investment structuring, investment strategies, etc. In addition, as a bonus question, discuss two ways to\n",
    "enhance the investment returns of a Unison fund."
   ]
  },
  {
   "cell_type": "markdown",
   "id": "ceeb9299",
   "metadata": {},
   "source": [
    "Comment: Analysing Unison customers' mortgage can help identifying potential risk in portfolio. It can significantly mitigate the harm of potential loss and reduce the chances of a negative outcome.\n",
    "\n",
    "One of the key metrics in identifying investment risk is value at risk (VaR) and sharpe raio. Value at risk can be calculated through variance-covariance method, historical and monte carlo method to help quantify the risk of potential losses for a Unison fund.\n",
    "\n",
    "The other key matrics that I commonly used in my research is sharpe ratio, we can implement mean-variance method in allocating a portfolio to adjust for the optimal sharpe ratio, the metric helps Unison fund to determine the biggest reward at a given level of risk or the least risk at a given level of return.\n",
    "\n",
    "Two ways: Backtesting the Unison fund allocation in historical senario to valitate the effectiveness of the investment strategies/ Stress test portfolio in extreme market condition to ensure the risk is under controll/ Investment Attribution using brinson model to ensure the excess return comes within explanatory scope."
   ]
  }
 ],
 "metadata": {
  "kernelspec": {
   "display_name": "Python 3 (ipykernel)",
   "language": "python",
   "name": "python3"
  },
  "language_info": {
   "codemirror_mode": {
    "name": "ipython",
    "version": 3
   },
   "file_extension": ".py",
   "mimetype": "text/x-python",
   "name": "python",
   "nbconvert_exporter": "python",
   "pygments_lexer": "ipython3",
   "version": "3.9.12"
  }
 },
 "nbformat": 4,
 "nbformat_minor": 5
}
